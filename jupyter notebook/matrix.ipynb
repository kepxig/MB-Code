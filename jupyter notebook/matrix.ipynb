{
 "cells": [
  {
   "cell_type": "code",
   "execution_count": 17,
   "id": "50c189a3",
   "metadata": {},
   "outputs": [
    {
     "name": "stdout",
     "output_type": "stream",
     "text": [
      "[[1 2]\n",
      " [3 4]]\n",
      "(2, 2)\n",
      "2\n",
      "4\n",
      "4\n",
      "int32\n",
      "[[5 5]\n",
      " [5 5]]\n",
      "[[0 1]\n",
      " [2 3]]\n",
      "[[2 4]\n",
      " [6 8]]\n"
     ]
    }
   ],
   "source": [
    "import numpy as np\n",
    "a=np.array([[1,2],[3,4]])\n",
    "print (a)\n",
    "print (a.shape)\n",
    "print (a.ndim)\n",
    "print (a.size)\n",
    "print (a.itemsize)\n",
    "print (a.dtype)\n",
    "b=np.array([[4,3],[2,1]])\n",
    "print(a+b)\n",
    "c=np.array([1,1])\n",
    "tmp=a-np.tile(c,(2,1))\n",
    "print(tmp)\n",
    "print(2*a)"
   ]
  },
  {
   "cell_type": "code",
   "execution_count": 34,
   "id": "e0fda550",
   "metadata": {},
   "outputs": [
    {
     "name": "stdout",
     "output_type": "stream",
     "text": [
      "[[[1 4 7]\n",
      "  [2 5 8]\n",
      "  [3 6 9]]\n",
      "\n",
      " [[1 4 7]\n",
      "  [2 5 8]\n",
      "  [3 6 9]]]\n",
      "[[[1 1]\n",
      "  [2 2]\n",
      "  [3 3]]\n",
      "\n",
      " [[4 4]\n",
      "  [5 5]\n",
      "  [6 6]]\n",
      "\n",
      " [[7 7]\n",
      "  [8 8]\n",
      "  [9 9]]]\n"
     ]
    }
   ],
   "source": [
    "a=np.array([1,4,7])\n",
    "b=np.array([2,5,8])\n",
    "c=np.array([3,6,9])\n",
    "d=np.array([[a,b,c],[a,b,c]])\n",
    "print(d)\n",
    "print(d.transpose())"
   ]
  },
  {
   "cell_type": "code",
   "execution_count": 35,
   "id": "d743578b",
   "metadata": {},
   "outputs": [
    {
     "name": "stdout",
     "output_type": "stream",
     "text": [
      "[[[ 1 16 49]\n",
      "  [ 4 25 64]\n",
      "  [ 9 36 81]]\n",
      "\n",
      " [[ 1 16 49]\n",
      "  [ 4 25 64]\n",
      "  [ 9 36 81]]]\n"
     ]
    }
   ],
   "source": [
    "print(np.square(d))"
   ]
  },
  {
   "cell_type": "code",
   "execution_count": 36,
   "id": "b032268f",
   "metadata": {},
   "outputs": [
    {
     "name": "stdout",
     "output_type": "stream",
     "text": [
      "[[[ 4 10 16]\n",
      "  [ 4 10 16]\n",
      "  [ 4 10 16]]\n",
      "\n",
      " [[ 4 10 16]\n",
      "  [ 4 10 16]\n",
      "  [ 4 10 16]]]\n"
     ]
    }
   ],
   "source": [
    "e=np.array([[c,b,a],[c,b,a]])\n",
    "print(np.add(d,e))"
   ]
  },
  {
   "cell_type": "code",
   "execution_count": 41,
   "id": "3ec975ea",
   "metadata": {},
   "outputs": [
    {
     "name": "stdout",
     "output_type": "stream",
     "text": [
      "[[1 2 3]\n",
      " [4 5 6]]\n",
      "True\n"
     ]
    }
   ],
   "source": [
    "a=np.array([[1,3,2],[5,4,6]])\n",
    "print(np.sort(a))\n",
    "print(np.all(a>0))"
   ]
  },
  {
   "cell_type": "code",
   "execution_count": null,
   "id": "12c73ce4",
   "metadata": {},
   "outputs": [],
   "source": []
  }
 ],
 "metadata": {
  "kernelspec": {
   "display_name": "Python 3 (ipykernel)",
   "language": "python",
   "name": "python3"
  },
  "language_info": {
   "codemirror_mode": {
    "name": "ipython",
    "version": 3
   },
   "file_extension": ".py",
   "mimetype": "text/x-python",
   "name": "python",
   "nbconvert_exporter": "python",
   "pygments_lexer": "ipython3",
   "version": "3.9.12"
  }
 },
 "nbformat": 4,
 "nbformat_minor": 5
}
